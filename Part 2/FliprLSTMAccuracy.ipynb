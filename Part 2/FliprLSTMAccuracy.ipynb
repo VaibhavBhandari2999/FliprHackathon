{
 "cells": [
  {
   "cell_type": "code",
   "execution_count": 73,
   "metadata": {},
   "outputs": [],
   "source": [
    "from numpy import array\n",
    "from numpy import hstack\n",
    "from keras.models import Sequential\n",
    "from keras.layers import LSTM\n",
    "from keras.layers import Dense\n",
    "import pandas as pd\n",
    "import numpy as np\n",
    "\n",
    "\n",
    "def split_sequences(sequences, n_steps):\n",
    "    x, y = list(), list()\n",
    "    for i in range(len(sequences)):\n",
    "        \n",
    "        end_ix = i + n_steps\n",
    "        # check if we are beyond the dataset\n",
    "        if end_ix > len(sequences)-1:\n",
    "            break\n",
    "        # gather input and output parts of the pattern\n",
    "        seq_x, seq_y = sequences[i:end_ix, :], sequences[end_ix, :]\n",
    "        X.append(seq_x)\n",
    "    y.append(seq_y)\n",
    "    return array(X), array(y)\n"
   ]
  },
  {
   "cell_type": "code",
   "execution_count": 74,
   "metadata": {},
   "outputs": [],
   "source": [
    "df = pd.read_excel(\"C:/Users/Dell/Desktop/Flipr ML/Train_dataset.xlsx\", sheet_name = \"Diuresis_TS\")"
   ]
  },
  {
   "cell_type": "code",
   "execution_count": 75,
   "metadata": {},
   "outputs": [],
   "source": [
    "df=df.drop('people_ID',axis=1)"
   ]
  },
  {
   "cell_type": "code",
   "execution_count": 76,
   "metadata": {},
   "outputs": [],
   "source": [
    "df=df.iloc[:,:].values"
   ]
  },
  {
   "cell_type": "code",
   "execution_count": 77,
   "metadata": {},
   "outputs": [
    {
     "data": {
      "text/plain": [
       "array([[ 441.      ,  544.2     ,  669.64    , ..., 1002.2416  ,\n",
       "        1215.68992 , 1472.627904],\n",
       "       [ 151.      ,  197.2     ,  253.24    , ...,  399.9256  ,\n",
       "         492.91072 ,  606.892864],\n",
       "       [ 416.      ,  515.2     ,  632.44    , ...,  947.7736  ,\n",
       "        1150.32832 , 1395.793984],\n",
       "       ...,\n",
       "       [ 177.      ,  228.4     ,  288.28    , ...,  448.4632  ,\n",
       "         551.15584 ,  676.787008],\n",
       "       [ 352.      ,  438.4     ,  542.68    , ...,  814.6792  ,\n",
       "         990.61504 , 1204.138048],\n",
       "       [ 181.      ,  230.2     ,  290.44    , ...,  455.2936  ,\n",
       "         559.35232 ,  686.622784]])"
      ]
     },
     "execution_count": 77,
     "metadata": {},
     "output_type": "execute_result"
    }
   ],
   "source": [
    "df"
   ]
  },
  {
   "cell_type": "code",
   "execution_count": null,
   "metadata": {},
   "outputs": [],
   "source": []
  },
  {
   "cell_type": "code",
   "execution_count": 78,
   "metadata": {},
   "outputs": [
    {
     "data": {
      "text/plain": [
       "array([[ 441.      ,  544.2     ,  669.64    , ..., 1002.2416  ,\n",
       "        1215.68992 , 1472.627904],\n",
       "       [ 151.      ,  197.2     ,  253.24    , ...,  399.9256  ,\n",
       "         492.91072 ,  606.892864],\n",
       "       [ 416.      ,  515.2     ,  632.44    , ...,  947.7736  ,\n",
       "        1150.32832 , 1395.793984],\n",
       "       ...,\n",
       "       [ 177.      ,  228.4     ,  288.28    , ...,  448.4632  ,\n",
       "         551.15584 ,  676.787008],\n",
       "       [ 352.      ,  438.4     ,  542.68    , ...,  814.6792  ,\n",
       "         990.61504 , 1204.138048],\n",
       "       [ 181.      ,  230.2     ,  290.44    , ...,  455.2936  ,\n",
       "         559.35232 ,  686.622784]])"
      ]
     },
     "execution_count": 78,
     "metadata": {},
     "output_type": "execute_result"
    }
   ],
   "source": [
    "df"
   ]
  },
  {
   "cell_type": "code",
   "execution_count": 79,
   "metadata": {},
   "outputs": [],
   "source": [
    "n_steps = 3"
   ]
  },
  {
   "cell_type": "code",
   "execution_count": 80,
   "metadata": {},
   "outputs": [],
   "source": [
    "from sklearn.model_selection import train_test_split"
   ]
  },
  {
   "cell_type": "code",
   "execution_count": 81,
   "metadata": {},
   "outputs": [],
   "source": [
    "df_X=df[:,:-1]"
   ]
  },
  {
   "cell_type": "code",
   "execution_count": 82,
   "metadata": {},
   "outputs": [],
   "source": [
    "df_Y=df[:,-1]"
   ]
  },
  {
   "cell_type": "code",
   "execution_count": 83,
   "metadata": {},
   "outputs": [
    {
     "data": {
      "text/plain": [
       "array([1472.627904,  606.892864, 1395.793984, ...,  676.787008,\n",
       "       1204.138048,  686.622784])"
      ]
     },
     "execution_count": 83,
     "metadata": {},
     "output_type": "execute_result"
    }
   ],
   "source": [
    "df_Y"
   ]
  },
  {
   "cell_type": "code",
   "execution_count": 84,
   "metadata": {},
   "outputs": [],
   "source": [
    "df_X=df_X.transpose()\n"
   ]
  },
  {
   "cell_type": "code",
   "execution_count": null,
   "metadata": {},
   "outputs": [],
   "source": []
  },
  {
   "cell_type": "code",
   "execution_count": 85,
   "metadata": {},
   "outputs": [],
   "source": [
    "X, Y = split_sequences(df_X, n_steps)"
   ]
  },
  {
   "cell_type": "code",
   "execution_count": 86,
   "metadata": {},
   "outputs": [
    {
     "name": "stdout",
     "output_type": "stream",
     "text": [
      "10714\n",
      "[[[ 441.      151.      416.     ...  177.      352.      181.    ]\n",
      "  [ 544.2     197.2     515.2    ...  228.4     438.4     230.2   ]\n",
      "  [ 669.64    253.24    632.44   ...  288.28    542.68    290.44  ]]\n",
      "\n",
      " [[ 544.2     197.2     515.2    ...  228.4     438.4     230.2   ]\n",
      "  [ 669.64    253.24    632.44   ...  288.28    542.68    290.44  ]\n",
      "  [ 821.368   321.688   776.728  ...  362.136   665.816   366.328 ]]\n",
      "\n",
      " [[ 669.64    253.24    632.44   ...  288.28    542.68    290.44  ]\n",
      "  [ 821.368   321.688   776.728  ...  362.136   665.816   366.328 ]\n",
      "  [1002.2416  399.9256  947.7736 ...  448.4632  814.6792  455.2936]]]\n"
     ]
    }
   ],
   "source": [
    "n_features = X.shape[2]\n",
    "\n",
    "print(X.shape[2])\n",
    "print(X)"
   ]
  },
  {
   "cell_type": "code",
   "execution_count": 87,
   "metadata": {},
   "outputs": [
    {
     "data": {
      "text/plain": [
       "array([[ 821.368  ,  321.688  ,  776.728  , ...,  362.136  ,  665.816  ,\n",
       "         366.328  ],\n",
       "       [1002.2416 ,  399.9256 ,  947.7736 , ...,  448.4632 ,  814.6792 ,\n",
       "         455.2936 ],\n",
       "       [1215.68992,  492.91072, 1150.32832, ...,  551.15584,  990.61504,\n",
       "         559.35232]])"
      ]
     },
     "execution_count": 87,
     "metadata": {},
     "output_type": "execute_result"
    }
   ],
   "source": [
    "Y"
   ]
  },
  {
   "cell_type": "code",
   "execution_count": 88,
   "metadata": {},
   "outputs": [
    {
     "data": {
      "text/plain": [
       "<keras.callbacks.History at 0x20a01134630>"
      ]
     },
     "execution_count": 88,
     "metadata": {},
     "output_type": "execute_result"
    }
   ],
   "source": [
    "# define model\n",
    "model = Sequential()\n",
    "model.add(LSTM(100, activation='relu', return_sequences=True, input_shape=(n_steps, n_features)))\n",
    "model.add(LSTM(100, activation='relu'))\n",
    "model.add(Dense(n_features))\n",
    "model.compile(optimizer='adam', loss='mse')\n",
    "# fit model\n",
    "model.fit(X, Y, epochs=400, verbose=0)\n",
    "\n"
   ]
  },
  {
   "cell_type": "code",
   "execution_count": 89,
   "metadata": {},
   "outputs": [],
   "source": [
    "x_input=df_X[3:7,:]"
   ]
  },
  {
   "cell_type": "code",
   "execution_count": 90,
   "metadata": {},
   "outputs": [
    {
     "data": {
      "text/plain": [
       "array([[ 821.368  ,  321.688  ,  776.728  , ...,  362.136  ,  665.816  ,\n",
       "         366.328  ],\n",
       "       [1002.2416 ,  399.9256 ,  947.7736 , ...,  448.4632 ,  814.6792 ,\n",
       "         455.2936 ],\n",
       "       [1215.68992,  492.91072, 1150.32832, ...,  551.15584,  990.61504,\n",
       "         559.35232]])"
      ]
     },
     "execution_count": 90,
     "metadata": {},
     "output_type": "execute_result"
    }
   ],
   "source": [
    "x_input"
   ]
  },
  {
   "cell_type": "code",
   "execution_count": 91,
   "metadata": {},
   "outputs": [],
   "source": [
    "x_input = x_input.reshape((1, n_steps, n_features))\n",
    "yhat = model.predict(x_input, verbose=0)"
   ]
  },
  {
   "cell_type": "code",
   "execution_count": 92,
   "metadata": {
    "scrolled": true
   },
   "outputs": [
    {
     "data": {
      "text/plain": [
       "array([[1512.2736 ,  605.60596, 1430.719  , ...,  679.61566, 1230.4246 ,\n",
       "         687.53955]], dtype=float32)"
      ]
     },
     "execution_count": 92,
     "metadata": {},
     "output_type": "execute_result"
    }
   ],
   "source": [
    "yhat"
   ]
  },
  {
   "cell_type": "code",
   "execution_count": 93,
   "metadata": {},
   "outputs": [
    {
     "data": {
      "text/plain": [
       "array([1472.627904,  606.892864, 1395.793984, ...,  676.787008,\n",
       "       1204.138048,  686.622784])"
      ]
     },
     "execution_count": 93,
     "metadata": {},
     "output_type": "execute_result"
    }
   ],
   "source": [
    "df_Y"
   ]
  },
  {
   "cell_type": "code",
   "execution_count": 94,
   "metadata": {},
   "outputs": [
    {
     "data": {
      "text/plain": [
       "10714"
      ]
     },
     "execution_count": 94,
     "metadata": {},
     "output_type": "execute_result"
    }
   ],
   "source": [
    "len(yhat[0])"
   ]
  },
  {
   "cell_type": "code",
   "execution_count": 95,
   "metadata": {},
   "outputs": [
    {
     "data": {
      "text/plain": [
       "10714"
      ]
     },
     "execution_count": 95,
     "metadata": {},
     "output_type": "execute_result"
    }
   ],
   "source": [
    "len(df_Y)"
   ]
  },
  {
   "cell_type": "code",
   "execution_count": 96,
   "metadata": {
    "scrolled": false
   },
   "outputs": [
    {
     "data": {
      "text/plain": [
       "<matplotlib.collections.PathCollection at 0x20a009a46a0>"
      ]
     },
     "execution_count": 96,
     "metadata": {},
     "output_type": "execute_result"
    },
    {
     "data": {
      "image/png": "[encoded data removed]",
      "text/plain": [
       "<Figure size 432x288 with 1 Axes>"
      ]
     },
     "metadata": {
      "needs_background": "light"
     },
     "output_type": "display_data"
    }
   ],
   "source": [
    "from matplotlib import pyplot as plt\n",
    "plt.scatter(df_Y,yhat[0])"
   ]
  },
  {
   "cell_type": "code",
   "execution_count": 97,
   "metadata": {},
   "outputs": [
    {
     "data": {
      "text/plain": [
       "(1, 10714)"
      ]
     },
     "execution_count": 97,
     "metadata": {},
     "output_type": "execute_result"
    }
   ],
   "source": [
    "yhat.shape"
   ]
  },
  {
   "cell_type": "code",
   "execution_count": 98,
   "metadata": {},
   "outputs": [
    {
     "data": {
      "text/plain": [
       "16.97838367565689"
      ]
     },
     "execution_count": 98,
     "metadata": {},
     "output_type": "execute_result"
    }
   ],
   "source": [
    "from sklearn.metrics import mean_absolute_error, mean_squared_error\n",
    "mean_absolute_error(df_Y, yhat[0])"
   ]
  },
  {
   "cell_type": "code",
   "execution_count": null,
   "metadata": {},
   "outputs": [],
   "source": []
  }
 ],
 "metadata": {
  "kernelspec": {
   "display_name": "Python 3",
   "language": "python",
   "name": "python3"
  },
  "language_info": {
   "codemirror_mode": {
    "name": "ipython",
    "version": 3
   },
   "file_extension": ".py",
   "mimetype": "text/x-python",
   "name": "python",
   "nbconvert_exporter": "python",
   "pygments_lexer": "ipython3",
   "version": "3.6.8"
  }
 },
 "nbformat": 4,
 "nbformat_minor": 2
}
